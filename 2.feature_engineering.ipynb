{
 "cells": [
  {
   "cell_type": "markdown",
   "metadata": {},
   "source": [
    "# Feature Engineering"
   ]
  },
  {
   "cell_type": "markdown",
   "metadata": {},
   "source": [
    "Feature engineering is the process of using domain knowledge to extract features from raw data . These features can be used to improve the performance of machine learning algorithm"
   ]
  },
  {
   "cell_type": "markdown",
   "metadata": {},
   "source": [
    "\n",
    "1. Feature Transformation\n",
    "    a. Missing Value Imputation\n",
    "    b. Handling categorical features\n",
    "    c. Outlier Detection\n",
    "    d.Feature Scaling\n",
    "\n",
    "2. Feature Construction\n",
    "3. Feature Selection\n",
    "4. Feature Extraction "
   ]
  },
  {
   "cell_type": "markdown",
   "metadata": {},
   "source": [
    "\n",
    "## Missing value imputation"
   ]
  },
  {
   "cell_type": "markdown",
   "metadata": {},
   "source": []
  },
  {
   "cell_type": "code",
   "execution_count": 2,
   "metadata": {},
   "outputs": [],
   "source": [
    "# Scikit learn does not accept missing values in the data.\n",
    "# We need to handle missing values before passing the data to the model.\n",
    "# There are two ways to handle missing values:\n",
    "# 1. Drop the missing values\n",
    "# 2. Fill the missing values with a value\n",
    "\n",
    "# 1. Drop the missing values\n",
    "# We can drop the missing values by using the dropna() function.\n",
    "# The dropna() function will drop the rows that contain missing values.\n",
    "\n",
    "# 2. Fill the missing values with a value\n",
    "\n",
    "# Either replace the missing values with the mean of the column or the median of the column.\n",
    "# We can use the fillna() function to fill the missing values with the mean or median of the column.\n",
    "\n",
    "\n"
   ]
  },
  {
   "cell_type": "markdown",
   "metadata": {},
   "source": [
    "## Handling Categorical Data"
   ]
  },
  {
   "cell_type": "code",
   "execution_count": null,
   "metadata": {},
   "outputs": [],
   "source": [
    "# One hot encoding\n",
    "# One hot encoding is a technique that converts categorical variables into a format that can be used by machine learning algorithms to do a better job in prediction.\n"
   ]
  },
  {
   "cell_type": "markdown",
   "metadata": {},
   "source": [
    "## Outliner Detection\n"
   ]
  },
  {
   "cell_type": "code",
   "execution_count": 1,
   "metadata": {},
   "outputs": [],
   "source": [
    "# It is like sharma ji ka beta sabse alag\n",
    "# Remove the outliers from the data\n",
    "# Outliers are the data points that are very different from the rest of the data.\n",
    "# They can be caused by a variety of reasons, such as data entry errors, measurement errors, or natural variability.\n",
    "# Outliers can have a significant impact on the results of a machine learning model, so it is important to identify and remove them.\n",
    "\n",
    "# There are two ways to remove outliers:\n",
    "# 1. Z-score\n",
    "# 2. IQR\n",
    "\n",
    "# 1. Z-score\n",
    "# Z-score is a measure of how many standard deviations a data point is from the mean.\n",
    "# A data point with a z-score of 3 or more is considered an outlier.\n",
    "# We can use the zscore() function to calculate the z-score of a data point.\n",
    "\n",
    "# 2. IQR\n",
    "# IQR is the interquartile range.\n",
    "# It is the difference between the 75th percentile and the 25th percentile.\n",
    "# A data point with a value that is more than 1.5 times the IQR above the 75th percentile or below the 25th percentile is considered an outlier."
   ]
  },
  {
   "cell_type": "markdown",
   "metadata": {},
   "source": [
    "## Feature Scaling"
   ]
  },
  {
   "cell_type": "code",
   "execution_count": 3,
   "metadata": {},
   "outputs": [],
   "source": [
    "# We make the data in a range ...generally the range is -1 to 1"
   ]
  }
 ],
 "metadata": {
  "kernelspec": {
   "display_name": "venv",
   "language": "python",
   "name": "python3"
  },
  "language_info": {
   "codemirror_mode": {
    "name": "ipython",
    "version": 3
   },
   "file_extension": ".py",
   "mimetype": "text/x-python",
   "name": "python",
   "nbconvert_exporter": "python",
   "pygments_lexer": "ipython3",
   "version": "3.10.12"
  }
 },
 "nbformat": 4,
 "nbformat_minor": 2
}
